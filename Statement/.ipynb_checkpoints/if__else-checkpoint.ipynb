{
 "cells": [
  {
   "cell_type": "code",
   "execution_count": 2,
   "id": "e326e71f-d308-4580-b869-7f6559ed4272",
   "metadata": {},
   "outputs": [
    {
     "name": "stdout",
     "output_type": "stream",
     "text": [
      "Feed me!\n"
     ]
    }
   ],
   "source": [
    "hungry = True\n",
    "\n",
    "if hungry:\n",
    "    print('Feed me!')\n",
    "else:\n",
    "    print(\"I'm not hungry\")"
   ]
  },
  {
   "cell_type": "code",
   "execution_count": 5,
   "id": "6a9e46ad-6032-44b3-8471-4f152c4d8bdc",
   "metadata": {},
   "outputs": [
    {
     "name": "stdout",
     "output_type": "stream",
     "text": [
      "Money is cool\n"
     ]
    }
   ],
   "source": [
    "loc = 'Bank'\n",
    "\n",
    "if loc == 'Auto shop':\n",
    "\n",
    "    print(\"Cars are cool!\")\n",
    "    \n",
    "elif loc == \"Bank\":\n",
    "    print(\"Money is cool\")\n",
    "    \n",
    "\n",
    "else:\n",
    "    print(\"I don't not know much\")"
   ]
  },
  {
   "cell_type": "code",
   "execution_count": 6,
   "id": "3d9787ca-50de-4c33-b7f3-3572eaf8ba05",
   "metadata": {},
   "outputs": [
    {
     "name": "stdout",
     "output_type": "stream",
     "text": [
      "What is your name?\n"
     ]
    }
   ],
   "source": [
    "name = \"Angel\"\n",
    "\n",
    "if name == \"Roktim\" :\n",
    "    print(\"Hello Roktim\")\n",
    "\n",
    "elif name == \"Dipta\" :\n",
    "    print(\"Hello Dipata\")\n",
    "\n",
    "else:\n",
    "    print(\"What is your name?\")"
   ]
  },
  {
   "cell_type": "code",
   "execution_count": null,
   "id": "399c643e-3479-4480-9576-d470b2c90b65",
   "metadata": {},
   "outputs": [],
   "source": []
  }
 ],
 "metadata": {
  "kernelspec": {
   "display_name": "Python 3 (ipykernel)",
   "language": "python",
   "name": "python3"
  },
  "language_info": {
   "codemirror_mode": {
    "name": "ipython",
    "version": 3
   },
   "file_extension": ".py",
   "mimetype": "text/x-python",
   "name": "python",
   "nbconvert_exporter": "python",
   "pygments_lexer": "ipython3",
   "version": "3.11.7"
  }
 },
 "nbformat": 4,
 "nbformat_minor": 5
}
