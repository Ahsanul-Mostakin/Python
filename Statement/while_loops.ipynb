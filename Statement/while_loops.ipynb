{
 "cells": [
  {
   "cell_type": "code",
   "execution_count": 1,
   "id": "3472b328-ba68-40de-b41f-81450f275140",
   "metadata": {},
   "outputs": [
    {
     "name": "stdout",
     "output_type": "stream",
     "text": [
      "The current value of x is : 0\n",
      "The current value of x is : 1\n",
      "The current value of x is : 2\n",
      "The current value of x is : 3\n",
      "The current value of x is : 4\n",
      "X is not less than 5\n"
     ]
    }
   ],
   "source": [
    "x = 0\n",
    "\n",
    "while x < 5 :\n",
    "    print(f\"The current value of x is : {x}\")\n",
    "\n",
    "    x += 1\n",
    "\n",
    "else:\n",
    "    print(\"X is not less than 5\")"
   ]
  },
  {
   "cell_type": "code",
   "execution_count": 2,
   "id": "4f9d4997-367c-406b-8142-3463a2178ae7",
   "metadata": {},
   "outputs": [
    {
     "name": "stdout",
     "output_type": "stream",
     "text": [
      "End of my script\n"
     ]
    }
   ],
   "source": [
    "x = [1,2,3]\n",
    "\n",
    "for item in x:\n",
    "    pass\n",
    "\n",
    "print('End of my script')"
   ]
  },
  {
   "cell_type": "code",
   "execution_count": 3,
   "id": "11d86abd-61da-41b3-9bd4-02e905dac8c8",
   "metadata": {},
   "outputs": [
    {
     "name": "stdout",
     "output_type": "stream",
     "text": [
      "S\n"
     ]
    }
   ],
   "source": [
    "mystring = 'Sammy'\n",
    "\n",
    "for letter in mystring:\n",
    "    if letter == 'a':\n",
    "\n",
    "        break\n",
    "\n",
    "    print(letter)"
   ]
  },
  {
   "cell_type": "code",
   "execution_count": null,
   "id": "f35686da-7abf-4b95-81f9-525e11e4e13e",
   "metadata": {},
   "outputs": [],
   "source": []
  }
 ],
 "metadata": {
  "kernelspec": {
   "display_name": "Python 3 (ipykernel)",
   "language": "python",
   "name": "python3"
  },
  "language_info": {
   "codemirror_mode": {
    "name": "ipython",
    "version": 3
   },
   "file_extension": ".py",
   "mimetype": "text/x-python",
   "name": "python",
   "nbconvert_exporter": "python",
   "pygments_lexer": "ipython3",
   "version": "3.11.7"
  }
 },
 "nbformat": 4,
 "nbformat_minor": 5
}
