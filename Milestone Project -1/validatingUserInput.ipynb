{
 "cells": [
  {
   "cell_type": "code",
   "execution_count": 23,
   "id": "4a10b3bd-a1f0-4f8c-9b14-0edb88cb7c3f",
   "metadata": {},
   "outputs": [],
   "source": [
    "def user_choice():\n",
    "    #VARIABLES\n",
    "    #Initial\n",
    "    \n",
    "    choice = 'Wrong'\n",
    "    acceptable_range = range(0,10)\n",
    "    within_range = False\n",
    "    \n",
    "     #TWO CONDITIONS TO CHECK\n",
    "     # DIGIT OR WITHIN_RANGE == False\n",
    "    while choice.isdigit() == False or within_range == False:\n",
    "          choice = input(\"Please enter a number (0-10: \")\n",
    "        \n",
    "          #Digit check\n",
    "          if choice.isdigit() == False:\n",
    "               print(\"Sorry that is not a digit!\")\n",
    "                   \n",
    "\n",
    "          #Range check\n",
    "          if choice.isdigit()  == True :\n",
    "              if int(choice) in acceptable_range:\n",
    "                  within_range = True\n",
    "              else:\n",
    "                  print(\"Hey, sorry you are out of the acceptable range (0 - 10)\")\n",
    "                  within_range = False\n",
    "    return int(choice)                     "
   ]
  },
  {
   "cell_type": "code",
   "execution_count": 25,
   "id": "eb0d8953-ff18-44bb-8f7d-8149f74b38a1",
   "metadata": {},
   "outputs": [
    {
     "name": "stdin",
     "output_type": "stream",
     "text": [
      "Please enter a number (0-10:  100\n"
     ]
    },
    {
     "name": "stdout",
     "output_type": "stream",
     "text": [
      "Hey, sorry you are out of the acceptable range (0 - 10)\n"
     ]
    },
    {
     "name": "stdin",
     "output_type": "stream",
     "text": [
      "Please enter a number (0-10:  sadfgasdf\n"
     ]
    },
    {
     "name": "stdout",
     "output_type": "stream",
     "text": [
      "Sorry that is not a digit!\n"
     ]
    },
    {
     "name": "stdin",
     "output_type": "stream",
     "text": [
      "Please enter a number (0-10:  5\n"
     ]
    },
    {
     "data": {
      "text/plain": [
       "5"
      ]
     },
     "execution_count": 25,
     "metadata": {},
     "output_type": "execute_result"
    }
   ],
   "source": [
    "user_choice()"
   ]
  },
  {
   "cell_type": "code",
   "execution_count": null,
   "id": "843e2731-8e82-494c-8102-ee5340366d12",
   "metadata": {},
   "outputs": [],
   "source": []
  }
 ],
 "metadata": {
  "kernelspec": {
   "display_name": "Python 3 (ipykernel)",
   "language": "python",
   "name": "python3"
  },
  "language_info": {
   "codemirror_mode": {
    "name": "ipython",
    "version": 3
   },
   "file_extension": ".py",
   "mimetype": "text/x-python",
   "name": "python",
   "nbconvert_exporter": "python",
   "pygments_lexer": "ipython3",
   "version": "3.12.4"
  }
 },
 "nbformat": 4,
 "nbformat_minor": 5
}
