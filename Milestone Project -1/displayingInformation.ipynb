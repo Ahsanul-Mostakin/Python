{
 "cells": [
  {
   "cell_type": "code",
   "execution_count": 70,
   "id": "08787875-27c8-47b5-acf3-8132518d9c2c",
   "metadata": {},
   "outputs": [],
   "source": [
    "def dsiplay(row1,row2,row3) :\n",
    "    print(row1)\n",
    "    print(row2)\n",
    "    print(row3)"
   ]
  },
  {
   "cell_type": "code",
   "execution_count": 72,
   "id": "f3499c71-5d0d-4955-87ee-28ed8b8eef1c",
   "metadata": {},
   "outputs": [],
   "source": [
    "row1=[' ', ' ',' ']\n",
    "row2=[' ', ' ',' ']\n",
    "row3=[' ', ' ',' ']"
   ]
  },
  {
   "cell_type": "code",
   "execution_count": 74,
   "id": "d6ab2c4d-8e2a-4445-83e6-ab5b3fd3a19d",
   "metadata": {},
   "outputs": [
    {
     "name": "stdout",
     "output_type": "stream",
     "text": [
      "[' ', ' ', ' ']\n",
      "[' ', ' ', ' ']\n",
      "[' ', ' ', ' ']\n"
     ]
    }
   ],
   "source": [
    "dsiplay(row1,row2,row3)"
   ]
  },
  {
   "cell_type": "code",
   "execution_count": 80,
   "id": "efd40ed1-8161-4853-8ab5-2577ef7ce033",
   "metadata": {},
   "outputs": [],
   "source": [
    "row2[1] = 'X'"
   ]
  },
  {
   "cell_type": "code",
   "execution_count": 82,
   "id": "7fb2964e-0bf6-482c-80c5-9c06fb22735b",
   "metadata": {},
   "outputs": [
    {
     "name": "stdout",
     "output_type": "stream",
     "text": [
      "[' ', ' ', 'X']\n",
      "[' ', 'X', ' ']\n",
      "[' ', ' ', ' ']\n"
     ]
    }
   ],
   "source": [
    "dsiplay(row1,row2,row3)"
   ]
  },
  {
   "cell_type": "code",
   "execution_count": null,
   "id": "47dada18-3d3c-4349-8892-1cb95f66965f",
   "metadata": {},
   "outputs": [],
   "source": []
  }
 ],
 "metadata": {
  "kernelspec": {
   "display_name": "Python 3 (ipykernel)",
   "language": "python",
   "name": "python3"
  },
  "language_info": {
   "codemirror_mode": {
    "name": "ipython",
    "version": 3
   },
   "file_extension": ".py",
   "mimetype": "text/x-python",
   "name": "python",
   "nbconvert_exporter": "python",
   "pygments_lexer": "ipython3",
   "version": "3.12.4"
  }
 },
 "nbformat": 4,
 "nbformat_minor": 5
}
