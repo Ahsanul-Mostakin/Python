{
 "cells": [
  {
   "cell_type": "code",
   "execution_count": 1,
   "id": "b8eb5fce-f46a-4107-a0c4-bd75dd024705",
   "metadata": {},
   "outputs": [],
   "source": [
    "def myfunc(a,b):\n",
    "    #Return 5% of the sum a and b\n",
    "\n",
    "    return sum((a,b)) * 0.05"
   ]
  },
  {
   "cell_type": "code",
   "execution_count": 3,
   "id": "5c3a5038-c3db-430c-9998-5904689bea88",
   "metadata": {},
   "outputs": [
    {
     "data": {
      "text/plain": [
       "5.0"
      ]
     },
     "execution_count": 3,
     "metadata": {},
     "output_type": "execute_result"
    }
   ],
   "source": [
    "myfunc(40,60)"
   ]
  },
  {
   "cell_type": "code",
   "execution_count": 9,
   "id": "d6af7217-a3b4-455a-b824-7fff6f2e326e",
   "metadata": {},
   "outputs": [],
   "source": [
    "def myfunc(*args):\n",
    "    return sum(args) * 0.05"
   ]
  },
  {
   "cell_type": "code",
   "execution_count": 15,
   "id": "e86f6b9b-2165-4fe3-a9af-6559ad1e6539",
   "metadata": {},
   "outputs": [
    {
     "data": {
      "text/plain": [
       "605.0"
      ]
     },
     "execution_count": 15,
     "metadata": {},
     "output_type": "execute_result"
    }
   ],
   "source": [
    "myfunc(40,60,2000,10000)"
   ]
  },
  {
   "cell_type": "code",
   "execution_count": 23,
   "id": "83ed84bd-da49-40b1-82b9-00de8a8e870c",
   "metadata": {},
   "outputs": [],
   "source": [
    "def myfunc(*args):\n",
    "    for item in args:\n",
    "        print(item)"
   ]
  },
  {
   "cell_type": "code",
   "execution_count": 25,
   "id": "2a992f3e-87a0-452c-990f-fb295e4b8f89",
   "metadata": {},
   "outputs": [
    {
     "name": "stdout",
     "output_type": "stream",
     "text": [
      "40\n",
      "60\n",
      "100\n",
      "1\n",
      "12\n"
     ]
    }
   ],
   "source": [
    "myfunc(40,60,100,1,12)"
   ]
  },
  {
   "cell_type": "code",
   "execution_count": 40,
   "id": "9be7e802-099a-4310-a50a-b8fc7d082a99",
   "metadata": {},
   "outputs": [],
   "source": [
    "def myfunc(**kwargs):\n",
    "    print(kwargs)\n",
    "    if 'fruit' in kwargs:\n",
    "        print('My fruit of choice is {}'.format(kwargs['fruit']))\n",
    "    else:\n",
    "        print(\"I din't find any fruit here!\")"
   ]
  },
  {
   "cell_type": "code",
   "execution_count": 42,
   "id": "08b33e7b-2b5a-4712-bf3e-c473518b95a6",
   "metadata": {},
   "outputs": [
    {
     "name": "stdout",
     "output_type": "stream",
     "text": [
      "{'fruit': 'apple', 'veggie': 'lettuce'}\n",
      "My fruit of choice is apple\n"
     ]
    }
   ],
   "source": [
    "myfunc(fruit='apple',veggie = 'lettuce')"
   ]
  },
  {
   "cell_type": "code",
   "execution_count": 50,
   "id": "e29562c7-9b9d-4a24-a777-6c3cbd3af106",
   "metadata": {},
   "outputs": [],
   "source": [
    "def myfunc(*args,**kwargs):\n",
    "    print(args)\n",
    "    print(kwargs)\n",
    "    print('I would like {} {}'. format(args[0],kwargs['food']))"
   ]
  },
  {
   "cell_type": "code",
   "execution_count": 54,
   "id": "9d655fff-5ac1-484a-8156-27634a65236a",
   "metadata": {},
   "outputs": [
    {
     "name": "stdout",
     "output_type": "stream",
     "text": [
      "(100, 20, 30)\n",
      "{'fruit': 'orange', 'food': 'eggs', 'animal': 'dog'}\n",
      "I would like 100 eggs\n"
     ]
    }
   ],
   "source": [
    "myfunc(100,20,30, fruit= 'orange',food = 'eggs', animal = 'dog')"
   ]
  },
  {
   "cell_type": "code",
   "execution_count": null,
   "id": "1df7548a-bddd-4241-803e-1fcb99a6a3e9",
   "metadata": {},
   "outputs": [],
   "source": []
  }
 ],
 "metadata": {
  "kernelspec": {
   "display_name": "Python 3 (ipykernel)",
   "language": "python",
   "name": "python3"
  },
  "language_info": {
   "codemirror_mode": {
    "name": "ipython",
    "version": 3
   },
   "file_extension": ".py",
   "mimetype": "text/x-python",
   "name": "python",
   "nbconvert_exporter": "python",
   "pygments_lexer": "ipython3",
   "version": "3.12.4"
  }
 },
 "nbformat": 4,
 "nbformat_minor": 5
}
