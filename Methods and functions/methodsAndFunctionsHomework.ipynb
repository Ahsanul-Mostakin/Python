{
 "cells": [
  {
   "cell_type": "markdown",
   "id": "7bda58b5-0641-4fe6-86cb-9070987100a1",
   "metadata": {},
   "source": [
    "# Write a function that computes volume of a sphere given it's ridus\n",
    "\n",
    "\n"
   ]
  },
  {
   "cell_type": "code",
   "execution_count": 5,
   "id": "14826d3b-5292-4024-a37e-37dbde444e7c",
   "metadata": {},
   "outputs": [],
   "source": [
    "def vol(rad):\n",
    "    return (4/3)*(3.14)*(rad**3)"
   ]
  },
  {
   "cell_type": "code",
   "execution_count": 7,
   "id": "0cf1760e-76ad-49ae-82de-7e54e5ef6e35",
   "metadata": {},
   "outputs": [
    {
     "data": {
      "text/plain": [
       "33.49333333333333"
      ]
     },
     "execution_count": 7,
     "metadata": {},
     "output_type": "execute_result"
    }
   ],
   "source": [
    "vol(2)"
   ]
  },
  {
   "cell_type": "markdown",
   "id": "5639ef3d-17cf-4b61-b4ee-2438bb42a48e",
   "metadata": {},
   "source": [
    "# Write a function that checks a number in agiven range(inclusive of hing and low)\n"
   ]
  },
  {
   "cell_type": "code",
   "execution_count": 24,
   "id": "044303a7-fd10-4103-ba21-e61aabc9bcc3",
   "metadata": {},
   "outputs": [
    {
     "name": "stdout",
     "output_type": "stream",
     "text": [
      "0\n",
      "1\n",
      "2\n",
      "3\n",
      "4\n"
     ]
    }
   ],
   "source": [
    "for item in range(0,5):\n",
    "    print(item)"
   ]
  },
  {
   "cell_type": "code",
   "execution_count": 26,
   "id": "c134c168-c325-44ab-ba02-c196f9bec604",
   "metadata": {},
   "outputs": [
    {
     "data": {
      "text/plain": [
       "False"
      ]
     },
     "execution_count": 26,
     "metadata": {},
     "output_type": "execute_result"
    }
   ],
   "source": [
    "5 in range (0,5)"
   ]
  },
  {
   "cell_type": "code",
   "execution_count": null,
   "id": "eec9c916-4dd7-418f-9a36-421563319c74",
   "metadata": {},
   "outputs": [],
   "source": [
    "def ran_check(num,low,high):\n",
    "    if num in range(low, high+1):\n",
    "        print(f'{num}is in range of {low} and high')\n",
    "    else:\n",
    "        print('not in range')"
   ]
  }
 ],
 "metadata": {
  "kernelspec": {
   "display_name": "Python 3 (ipykernel)",
   "language": "python",
   "name": "python3"
  },
  "language_info": {
   "codemirror_mode": {
    "name": "ipython",
    "version": 3
   },
   "file_extension": ".py",
   "mimetype": "text/x-python",
   "name": "python",
   "nbconvert_exporter": "python",
   "pygments_lexer": "ipython3",
   "version": "3.12.4"
  }
 },
 "nbformat": 4,
 "nbformat_minor": 5
}
