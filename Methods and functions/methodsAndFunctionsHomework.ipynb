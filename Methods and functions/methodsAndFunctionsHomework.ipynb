{
 "cells": [
  {
   "cell_type": "markdown",
   "id": "7bda58b5-0641-4fe6-86cb-9070987100a1",
   "metadata": {},
   "source": [
    "# Write a function that computes volume of a sphere given it's ridus\n",
    "\n",
    "\n"
   ]
  },
  {
   "cell_type": "code",
   "execution_count": 5,
   "id": "14826d3b-5292-4024-a37e-37dbde444e7c",
   "metadata": {},
   "outputs": [],
   "source": [
    "def vol(rad):\n",
    "    return (4/3)*(3.14)*(rad**3)"
   ]
  },
  {
   "cell_type": "code",
   "execution_count": 7,
   "id": "0cf1760e-76ad-49ae-82de-7e54e5ef6e35",
   "metadata": {},
   "outputs": [
    {
     "data": {
      "text/plain": [
       "33.49333333333333"
      ]
     },
     "execution_count": 7,
     "metadata": {},
     "output_type": "execute_result"
    }
   ],
   "source": [
    "vol(2)"
   ]
  },
  {
   "cell_type": "markdown",
   "id": "5639ef3d-17cf-4b61-b4ee-2438bb42a48e",
   "metadata": {},
   "source": [
    "# Write a function that checks a number in agiven range(inclusive of hing and low)\n"
   ]
  },
  {
   "cell_type": "code",
   "execution_count": 24,
   "id": "044303a7-fd10-4103-ba21-e61aabc9bcc3",
   "metadata": {},
   "outputs": [
    {
     "name": "stdout",
     "output_type": "stream",
     "text": [
      "0\n",
      "1\n",
      "2\n",
      "3\n",
      "4\n"
     ]
    }
   ],
   "source": [
    "for item in range(0,5):\n",
    "    print(item)"
   ]
  },
  {
   "cell_type": "code",
   "execution_count": 26,
   "id": "c134c168-c325-44ab-ba02-c196f9bec604",
   "metadata": {},
   "outputs": [
    {
     "data": {
      "text/plain": [
       "False"
      ]
     },
     "execution_count": 26,
     "metadata": {},
     "output_type": "execute_result"
    }
   ],
   "source": [
    "5 in range (0,5)"
   ]
  },
  {
   "cell_type": "code",
   "execution_count": 12,
   "id": "eec9c916-4dd7-418f-9a36-421563319c74",
   "metadata": {},
   "outputs": [],
   "source": [
    "def ran_check(num,low,high):\n",
    "    if num in range(low, high+1):\n",
    "        print(f'{num} is in range of {low} and high')\n",
    "    else:\n",
    "        print('not in range')"
   ]
  },
  {
   "cell_type": "code",
   "execution_count": 14,
   "id": "d7bd3395-5f2e-4ab4-bf53-fb93bf19d9e0",
   "metadata": {},
   "outputs": [
    {
     "name": "stdout",
     "output_type": "stream",
     "text": [
      "10 is in range of 6 and high\n"
     ]
    }
   ],
   "source": [
    "ran_check(10,6,17)"
   ]
  },
  {
   "cell_type": "markdown",
   "id": "cba162df-e865-4bff-a8c4-d75a2efe30b3",
   "metadata": {},
   "source": [
    "# Write function that accepts a string and calculates the number of upper case letter and lower case letters"
   ]
  },
  {
   "cell_type": "code",
   "execution_count": 20,
   "id": "b7c8487f-e7d3-4496-a75a-b0a84324f79d",
   "metadata": {},
   "outputs": [],
   "source": [
    "def up_low(s):\n",
    "     d = {'upper':0,'lower':0}\n",
    "\n",
    "     for char in s:\n",
    "         if char.isupper():\n",
    "             d['upper'] += 1\n",
    "         elif char.islower():\n",
    "             d['lower'] += 1\n",
    "         else:\n",
    "             pass\n",
    "\n",
    "     print(f'Original String :{s}')\n",
    "     print(f'Lowercase count :{d[\"lower\"]}')\n",
    "     print(f'Upper count :{d[\"upper\"]}')\n",
    "    "
   ]
  },
  {
   "cell_type": "code",
   "execution_count": 22,
   "id": "13b70cea-9ac0-4f4f-800e-9ff2c20ae4fe",
   "metadata": {},
   "outputs": [
    {
     "name": "stdout",
     "output_type": "stream",
     "text": [
      "Original String :Hello darkNess mY olD FriEnds?\n",
      "Lowercase count :19\n",
      "Upper count :6\n"
     ]
    }
   ],
   "source": [
    "s = \"Hello darkNess mY olD FriEnds?\"\n",
    "up_low(s)"
   ]
  },
  {
   "cell_type": "markdown",
   "id": "88b248c4-7a0a-4d42-a8e3-63deba3b6577",
   "metadata": {},
   "source": [
    "# Takes a list and returns a new with unique list elements of the first list"
   ]
  },
  {
   "cell_type": "code",
   "execution_count": 33,
   "id": "9fdfea9a-d0d9-466d-a793-5c70891bc30a",
   "metadata": {},
   "outputs": [],
   "source": [
    "def unique_list(first):\n",
    "    seen_numbers = []\n",
    "    for number in first:\n",
    "        if number not in seen_numbers:\n",
    "            seen_numbers.append(number)\n",
    "    return seen_numbers"
   ]
  },
  {
   "cell_type": "code",
   "execution_count": 35,
   "id": "5d1b60ef-e694-4542-8702-4d3174ef59dd",
   "metadata": {},
   "outputs": [
    {
     "data": {
      "text/plain": [
       "[1, 2, 3, 4, 5, 6, 7]"
      ]
     },
     "execution_count": 35,
     "metadata": {},
     "output_type": "execute_result"
    }
   ],
   "source": [
    "unique_list([1,2,3,4,4,4,4,5,5,5,5,5,6,6,6,7,7,7,7])"
   ]
  },
  {
   "cell_type": "markdown",
   "id": "b1175559-7e21-4d38-afca-cf13fbab257f",
   "metadata": {},
   "source": [
    "# Function to multiply all the numbers in a list"
   ]
  },
  {
   "cell_type": "code",
   "execution_count": 40,
   "id": "c35cac96-69c0-4f2b-b9c8-8cffbcf3080c",
   "metadata": {},
   "outputs": [],
   "source": [
    "def multiply(numbers):\n",
    "    total = 1\n",
    "    for num in numbers:\n",
    "        total = total * num\n",
    "    return total    "
   ]
  },
  {
   "cell_type": "code",
   "execution_count": 43,
   "id": "82d03177-efe2-4fe5-815c-bba4ba0aad01",
   "metadata": {},
   "outputs": [
    {
     "data": {
      "text/plain": [
       "-120"
      ]
     },
     "execution_count": 43,
     "metadata": {},
     "output_type": "execute_result"
    }
   ],
   "source": [
    "multiply([1,2,3,4,-5])"
   ]
  },
  {
   "cell_type": "markdown",
   "id": "6dfdd970-e031-4bd8-b548-e82652125975",
   "metadata": {},
   "source": [
    "# Check palindrome or not"
   ]
  },
  {
   "cell_type": "code",
   "execution_count": 58,
   "id": "62d6525c-7fdf-48b0-91ad-117c6df1b897",
   "metadata": {},
   "outputs": [],
   "source": [
    "def palindrome(s):\n",
    "    # Remove space string\n",
    "    s = s.replace(' ','')\n",
    "    # Check is string == reversed version of the string\n",
    "    \n",
    "    return s == s[::-1]\n",
    "\n",
    "    \n",
    "    \n",
    "    "
   ]
  },
  {
   "cell_type": "code",
   "execution_count": 60,
   "id": "c9661195-3ce7-4317-80ec-96e79fab3b43",
   "metadata": {},
   "outputs": [
    {
     "data": {
      "text/plain": [
       "True"
      ]
     },
     "execution_count": 60,
     "metadata": {},
     "output_type": "execute_result"
    }
   ],
   "source": [
    "palindrome('nurses run')"
   ]
  },
  {
   "cell_type": "markdown",
   "id": "a3cbf0f6-b57a-48dd-b98b-6f4b1f1f953c",
   "metadata": {},
   "source": [
    "# String is pangram or not"
   ]
  },
  {
   "cell_type": "code",
   "execution_count": 65,
   "id": "3e82d37a-0e6a-4c87-b10a-0ec278ea0cbe",
   "metadata": {},
   "outputs": [],
   "source": [
    "import string\n",
    "\n",
    "def ispangram(str1, alphabet=string.ascii_lowercase):\n",
    "    alphaset = set(alphabet)\n",
    "    str1 = str1.replace(' ', '').lower()\n",
    "    str1_set = set(str1)\n",
    "    return alphaset <= str1_set\n"
   ]
  },
  {
   "cell_type": "code",
   "execution_count": 67,
   "id": "53326e98-64a6-4218-89e6-655b72e316fa",
   "metadata": {},
   "outputs": [
    {
     "data": {
      "text/plain": [
       "True"
      ]
     },
     "execution_count": 67,
     "metadata": {},
     "output_type": "execute_result"
    }
   ],
   "source": [
    "ispangram(\"The quick brown fox jumps over the lazy dog\")"
   ]
  },
  {
   "cell_type": "code",
   "execution_count": null,
   "id": "81274007-f5f3-43f7-90e4-6f5f8ccb82c1",
   "metadata": {},
   "outputs": [],
   "source": []
  }
 ],
 "metadata": {
  "kernelspec": {
   "display_name": "Python 3 (ipykernel)",
   "language": "python",
   "name": "python3"
  },
  "language_info": {
   "codemirror_mode": {
    "name": "ipython",
    "version": 3
   },
   "file_extension": ".py",
   "mimetype": "text/x-python",
   "name": "python",
   "nbconvert_exporter": "python",
   "pygments_lexer": "ipython3",
   "version": "3.12.4"
  }
 },
 "nbformat": 4,
 "nbformat_minor": 5
}
