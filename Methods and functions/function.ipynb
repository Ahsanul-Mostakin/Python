{
 "cells": [
  {
   "cell_type": "code",
   "execution_count": 5,
   "id": "0dc4f1ab-1b90-448f-8d5b-90dcd7fedd01",
   "metadata": {},
   "outputs": [],
   "source": [
    "def say_hello():\n",
    "    print('Hello')\n",
    "    print('how')\n",
    "    print('are')\n",
    "    print('you?')"
   ]
  },
  {
   "cell_type": "code",
   "execution_count": 7,
   "id": "8e4a72d1-5696-4f2a-8628-edfa5f03e3a1",
   "metadata": {},
   "outputs": [
    {
     "name": "stdout",
     "output_type": "stream",
     "text": [
      "Hello\n",
      "how\n",
      "are\n",
      "you?\n"
     ]
    }
   ],
   "source": [
    "say_hello()"
   ]
  },
  {
   "cell_type": "code",
   "execution_count": 15,
   "id": "87a0b72e-141f-4379-ac6a-b742b0c89048",
   "metadata": {},
   "outputs": [],
   "source": [
    "def say_hello(name):\n",
    "    print(f'Hello what is up {name}')"
   ]
  },
  {
   "cell_type": "code",
   "execution_count": 17,
   "id": "a1703adc-b9da-4852-acc1-5cbb71581760",
   "metadata": {},
   "outputs": [
    {
     "name": "stdout",
     "output_type": "stream",
     "text": [
      "Hello what is up mostakin\n"
     ]
    }
   ],
   "source": [
    "say_hello('mostakin')"
   ]
  },
  {
   "cell_type": "code",
   "execution_count": 19,
   "id": "f63f6884-7240-4738-ae62-458b6338a2b9",
   "metadata": {},
   "outputs": [],
   "source": [
    "def say_hello(name= 'sumaiya'):\n",
    "    print(f'Hello what is up {name}')"
   ]
  },
  {
   "cell_type": "code",
   "execution_count": 23,
   "id": "3fb1f7c7-aa39-4df4-87fe-46b52b4a288c",
   "metadata": {},
   "outputs": [
    {
     "name": "stdout",
     "output_type": "stream",
     "text": [
      "Hello what is up sumaiya\n"
     ]
    }
   ],
   "source": [
    "say_hello()"
   ]
  },
  {
   "cell_type": "code",
   "execution_count": 25,
   "id": "9e15ac30-656d-4146-a43a-da1a7447b2cf",
   "metadata": {},
   "outputs": [],
   "source": [
    "def add_num(num1,num2):\n",
    "    return num1+num2\n"
   ]
  },
  {
   "cell_type": "code",
   "execution_count": 29,
   "id": "b5698f83-aefe-4f53-8ab3-418aaa7392ad",
   "metadata": {},
   "outputs": [],
   "source": [
    "result = add_num(10,20)"
   ]
  },
  {
   "cell_type": "code",
   "execution_count": 31,
   "id": "f29bd90d-3f68-480d-83ba-e48cab2cfe80",
   "metadata": {},
   "outputs": [
    {
     "data": {
      "text/plain": [
       "30"
      ]
     },
     "execution_count": 31,
     "metadata": {},
     "output_type": "execute_result"
    }
   ],
   "source": [
    "result"
   ]
  },
  {
   "cell_type": "code",
   "execution_count": 33,
   "id": "26da421e-6b27-4642-bf2f-c272cffa9620",
   "metadata": {},
   "outputs": [],
   "source": [
    "def print_result(a,b):\n",
    "    return a+b"
   ]
  },
  {
   "cell_type": "code",
   "execution_count": 35,
   "id": "ed8140d9-284e-4ad5-9123-2e65e95ddfd1",
   "metadata": {},
   "outputs": [],
   "source": [
    "result = print_result(10,20)"
   ]
  },
  {
   "cell_type": "code",
   "execution_count": 37,
   "id": "9cb039d3-1529-4297-9925-cb84cc58db43",
   "metadata": {},
   "outputs": [
    {
     "data": {
      "text/plain": [
       "30"
      ]
     },
     "execution_count": 37,
     "metadata": {},
     "output_type": "execute_result"
    }
   ],
   "source": [
    "result"
   ]
  },
  {
   "cell_type": "code",
   "execution_count": 53,
   "id": "c9797873-35bf-4870-b4b8-5f4986027f5b",
   "metadata": {},
   "outputs": [],
   "source": [
    "def prints_result(a,b):\n",
    "    print(a+b)"
   ]
  },
  {
   "cell_type": "code",
   "execution_count": 57,
   "id": "385e5326-2624-4a6f-8d07-5511015f39a4",
   "metadata": {},
   "outputs": [
    {
     "name": "stdout",
     "output_type": "stream",
     "text": [
      "30\n"
     ]
    }
   ],
   "source": [
    "result = prints_result(10,20)"
   ]
  },
  {
   "cell_type": "code",
   "execution_count": 59,
   "id": "a21e1134-62fb-4de9-903a-b1dea2a60a71",
   "metadata": {},
   "outputs": [
    {
     "data": {
      "text/plain": [
       "NoneType"
      ]
     },
     "execution_count": 59,
     "metadata": {},
     "output_type": "execute_result"
    }
   ],
   "source": [
    "type(result)"
   ]
  },
  {
   "cell_type": "code",
   "execution_count": 65,
   "id": "04224935-b433-4f02-8896-1ee1d4a61702",
   "metadata": {},
   "outputs": [],
   "source": [
    "def myfunc(a,b):\n",
    "    print(a+b)\n",
    "    return a+b"
   ]
  },
  {
   "cell_type": "code",
   "execution_count": 67,
   "id": "7b196bd0-778d-4501-8fd7-f92c150bd238",
   "metadata": {},
   "outputs": [],
   "source": [
    "def sum_nums(num1,num2):\n",
    "    return num1+num2"
   ]
  },
  {
   "cell_type": "code",
   "execution_count": 69,
   "id": "dfd43bd2-4773-4db9-8e18-bd92e788df92",
   "metadata": {},
   "outputs": [
    {
     "data": {
      "text/plain": [
       "30"
      ]
     },
     "execution_count": 69,
     "metadata": {},
     "output_type": "execute_result"
    }
   ],
   "source": [
    "sum_nums(10,20)"
   ]
  },
  {
   "cell_type": "code",
   "execution_count": 73,
   "id": "6fd95dbc-6c22-47ac-800f-8d607bcb8be3",
   "metadata": {},
   "outputs": [
    {
     "data": {
      "text/plain": [
       "'1020'"
      ]
     },
     "execution_count": 73,
     "metadata": {},
     "output_type": "execute_result"
    }
   ],
   "source": [
    "sum_nums('10','20')"
   ]
  },
  {
   "cell_type": "code",
   "execution_count": null,
   "id": "978bc593-7ab9-49c7-88f1-55ae149e8f64",
   "metadata": {},
   "outputs": [],
   "source": []
  }
 ],
 "metadata": {
  "kernelspec": {
   "display_name": "Python 3 (ipykernel)",
   "language": "python",
   "name": "python3"
  },
  "language_info": {
   "codemirror_mode": {
    "name": "ipython",
    "version": 3
   },
   "file_extension": ".py",
   "mimetype": "text/x-python",
   "name": "python",
   "nbconvert_exporter": "python",
   "pygments_lexer": "ipython3",
   "version": "3.12.4"
  }
 },
 "nbformat": 4,
 "nbformat_minor": 5
}
