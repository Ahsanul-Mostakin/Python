{
 "cells": [
  {
   "cell_type": "code",
   "execution_count": 1,
   "id": "44422d57-8400-4382-a0a0-b2267abee570",
   "metadata": {},
   "outputs": [
    {
     "data": {
      "text/plain": [
       "0"
      ]
     },
     "execution_count": 1,
     "metadata": {},
     "output_type": "execute_result"
    }
   ],
   "source": [
    "2%2"
   ]
  },
  {
   "cell_type": "code",
   "execution_count": 3,
   "id": "4fdd360e-6ab0-4468-b687-4b2341d5373d",
   "metadata": {},
   "outputs": [
    {
     "data": {
      "text/plain": [
       "1"
      ]
     },
     "execution_count": 3,
     "metadata": {},
     "output_type": "execute_result"
    }
   ],
   "source": [
    "3%2"
   ]
  },
  {
   "cell_type": "code",
   "execution_count": 7,
   "id": "60e134e1-c579-483b-ae6b-41a096b9751e",
   "metadata": {},
   "outputs": [
    {
     "data": {
      "text/plain": [
       "1"
      ]
     },
     "execution_count": 7,
     "metadata": {},
     "output_type": "execute_result"
    }
   ],
   "source": [
    "41%40"
   ]
  },
  {
   "cell_type": "code",
   "execution_count": 9,
   "id": "58a8ecbf-e3f0-47de-9505-61156b3f1d29",
   "metadata": {},
   "outputs": [
    {
     "data": {
      "text/plain": [
       "True"
      ]
     },
     "execution_count": 9,
     "metadata": {},
     "output_type": "execute_result"
    }
   ],
   "source": [
    "20 % 2  == 0"
   ]
  },
  {
   "cell_type": "code",
   "execution_count": 11,
   "id": "6ed7dad8-30e4-4ad5-ad3d-e51da6d7d0bd",
   "metadata": {},
   "outputs": [
    {
     "data": {
      "text/plain": [
       "False"
      ]
     },
     "execution_count": 11,
     "metadata": {},
     "output_type": "execute_result"
    }
   ],
   "source": [
    "21 % 2  == 0"
   ]
  },
  {
   "cell_type": "code",
   "execution_count": 13,
   "id": "7e12f74b-c9cb-4afc-9361-1c6370ecc9d0",
   "metadata": {},
   "outputs": [],
   "source": [
    " def even_check(number):\n",
    "     result = number % 2 == 0\n",
    "     return result"
   ]
  },
  {
   "cell_type": "code",
   "execution_count": 15,
   "id": "aefff296-eb92-4b74-b89c-b59272b36d9b",
   "metadata": {},
   "outputs": [
    {
     "data": {
      "text/plain": [
       "True"
      ]
     },
     "execution_count": 15,
     "metadata": {},
     "output_type": "execute_result"
    }
   ],
   "source": [
    "even_check(20)"
   ]
  },
  {
   "cell_type": "code",
   "execution_count": 17,
   "id": "1ee8b4b2-b8e4-4ce8-ae55-86f496cd0772",
   "metadata": {},
   "outputs": [
    {
     "data": {
      "text/plain": [
       "False"
      ]
     },
     "execution_count": 17,
     "metadata": {},
     "output_type": "execute_result"
    }
   ],
   "source": [
    "even_check(21)"
   ]
  },
  {
   "cell_type": "code",
   "execution_count": 19,
   "id": "f8829c98-8299-40c2-8896-6a37bc0d8ac8",
   "metadata": {},
   "outputs": [],
   "source": [
    "# RETURN TRUE IF ANY NUMBER IS EVEN INSIDE THE LIST"
   ]
  },
  {
   "cell_type": "code",
   "execution_count": 34,
   "id": "c4fa09c6-a692-4c36-a798-b67e9b1fa764",
   "metadata": {},
   "outputs": [],
   "source": [
    " def check_even_list(num_list):\n",
    "     for number in num_list:\n",
    "         if number % 2 == 0:\n",
    "             return True    \n",
    "         else:\n",
    "              pass   \n",
    "        \n"
   ]
  },
  {
   "cell_type": "code",
   "execution_count": 38,
   "id": "2cd5a0c3-e80b-4dc9-be87-6e3e55552596",
   "metadata": {},
   "outputs": [],
   "source": [
    "check_even_list([1,25,3])"
   ]
  },
  {
   "cell_type": "code",
   "execution_count": 40,
   "id": "29d1441e-42e6-437c-a2bf-80573cd0bd12",
   "metadata": {},
   "outputs": [
    {
     "data": {
      "text/plain": [
       "True"
      ]
     },
     "execution_count": 40,
     "metadata": {},
     "output_type": "execute_result"
    }
   ],
   "source": [
    "check_even_list([2,250,30])"
   ]
  },
  {
   "cell_type": "code",
   "execution_count": 54,
   "id": "052c00d8-6e62-45be-8f01-38e4ac19b3a2",
   "metadata": {},
   "outputs": [],
   "source": [
    " def check_even_list(num_list):\n",
    "     for number in num_list:\n",
    "         if number % 2 == 0:\n",
    "             return True    \n",
    "         else:\n",
    "              pass\n",
    "     return False"
   ]
  },
  {
   "cell_type": "code",
   "execution_count": 62,
   "id": "3cde9cbc-e456-464f-85a1-c34efd4ee3ad",
   "metadata": {},
   "outputs": [
    {
     "data": {
      "text/plain": [
       "False"
      ]
     },
     "execution_count": 62,
     "metadata": {},
     "output_type": "execute_result"
    }
   ],
   "source": [
    "check_even_list([1,3,5])"
   ]
  },
  {
   "cell_type": "code",
   "execution_count": 64,
   "id": "1a849199-6f3e-463f-8ceb-e6ca0a8d3108",
   "metadata": {},
   "outputs": [],
   "source": [
    " def check_even_list(num_list):\n",
    "     #return all the even number in list\n",
    "     #placeholder variable\n",
    "\n",
    "     even_numbers = []\n",
    "     \n",
    "     for number in num_list:\n",
    "         if number % 2 == 0:\n",
    "             even_numbers.append(number)   \n",
    "         else:\n",
    "              pass\n",
    "     return even_numbers"
   ]
  },
  {
   "cell_type": "code",
   "execution_count": 75,
   "id": "dc925f77-5fb3-4459-be86-a345421b1039",
   "metadata": {},
   "outputs": [
    {
     "data": {
      "text/plain": [
       "[2, 4, 6, 8, 10]"
      ]
     },
     "execution_count": 75,
     "metadata": {},
     "output_type": "execute_result"
    }
   ],
   "source": [
    "check_even_list([1,2,3,4,5,6,7,8,9,10])\n"
   ]
  },
  {
   "cell_type": "code",
   "execution_count": 72,
   "id": "5ac02d8f-3f18-4acd-9f21-634545daf511",
   "metadata": {},
   "outputs": [
    {
     "data": {
      "text/plain": [
       "[]"
      ]
     },
     "execution_count": 72,
     "metadata": {},
     "output_type": "execute_result"
    }
   ],
   "source": [
    "check_even_list([1,3,5,7])"
   ]
  },
  {
   "cell_type": "code",
   "execution_count": null,
   "id": "a834b65b-68a9-468d-b099-a959f529026e",
   "metadata": {},
   "outputs": [],
   "source": []
  }
 ],
 "metadata": {
  "kernelspec": {
   "display_name": "Python 3 (ipykernel)",
   "language": "python",
   "name": "python3"
  },
  "language_info": {
   "codemirror_mode": {
    "name": "ipython",
    "version": 3
   },
   "file_extension": ".py",
   "mimetype": "text/x-python",
   "name": "python",
   "nbconvert_exporter": "python",
   "pygments_lexer": "ipython3",
   "version": "3.12.4"
  }
 },
 "nbformat": 4,
 "nbformat_minor": 5
}
