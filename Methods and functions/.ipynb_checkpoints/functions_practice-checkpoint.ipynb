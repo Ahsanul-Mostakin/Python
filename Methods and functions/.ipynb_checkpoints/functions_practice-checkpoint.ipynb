{
 "cells": [
  {
   "cell_type": "code",
   "execution_count": 18,
   "id": "e9ef9ed5-a26f-4f62-afbd-e0968adcd62e",
   "metadata": {},
   "outputs": [],
   "source": [
    " def lesser_of_two_events(a,b):\n",
    "     if a%2 == 0 and b%2 ==0:\n",
    "         #Both nmbr is even\n",
    "         if  a<b:\n",
    "             result = a\n",
    "         else:\n",
    "             result = b\n",
    "     else:\n",
    "         if a > b:\n",
    "             result = a\n",
    "         else:\n",
    "             result = b\n",
    "\n",
    "     return result\n",
    "\n",
    "\n",
    "     "
   ]
  },
  {
   "cell_type": "code",
   "execution_count": 20,
   "id": "dc906004-fb34-45b4-aaa8-1b2a413d15ae",
   "metadata": {},
   "outputs": [
    {
     "data": {
      "text/plain": [
       "2"
      ]
     },
     "execution_count": 20,
     "metadata": {},
     "output_type": "execute_result"
    }
   ],
   "source": [
    "#check\n",
    "lesser_of_two_events(2,4)"
   ]
  },
  {
   "cell_type": "code",
   "execution_count": 26,
   "id": "9d4ab10d-3446-4dd8-8574-112faa86f997",
   "metadata": {},
   "outputs": [
    {
     "data": {
      "text/plain": [
       "9"
      ]
     },
     "execution_count": 26,
     "metadata": {},
     "output_type": "execute_result"
    }
   ],
   "source": [
    "lesser_of_two_events(5,9)"
   ]
  },
  {
   "cell_type": "code",
   "execution_count": 36,
   "id": "261f7813-f0e5-40b5-8306-77d4e33903b2",
   "metadata": {},
   "outputs": [],
   "source": [
    "def animal_crackers(text):\n",
    "    wordlist = text.split()\n",
    "    print(wordlist)\n",
    "\n",
    "    first = wordlist[0]\n",
    "    second = wordlist[1]\n",
    "    return first[0] == second[0]\n",
    "    "
   ]
  },
  {
   "cell_type": "code",
   "execution_count": 38,
   "id": "0fef9b6b-3f9e-4b2d-a93b-292e9eb3126a",
   "metadata": {},
   "outputs": [
    {
     "name": "stdout",
     "output_type": "stream",
     "text": [
      "['Levelhead', 'Lalma']\n"
     ]
    },
    {
     "data": {
      "text/plain": [
       "True"
      ]
     },
     "execution_count": 38,
     "metadata": {},
     "output_type": "execute_result"
    }
   ],
   "source": [
    "#check\n",
    "animal_crackers('Levelhead Lalma')"
   ]
  },
  {
   "cell_type": "code",
   "execution_count": 40,
   "id": "f9c85489-229b-45e9-a935-cfb3b2d4ad7f",
   "metadata": {},
   "outputs": [
    {
     "name": "stdout",
     "output_type": "stream",
     "text": [
      "['Crazy', 'Kangaroo']\n"
     ]
    },
    {
     "data": {
      "text/plain": [
       "False"
      ]
     },
     "execution_count": 40,
     "metadata": {},
     "output_type": "execute_result"
    }
   ],
   "source": [
    "animal_crackers('Crazy Kangaroo')"
   ]
  },
  {
   "cell_type": "code",
   "execution_count": 42,
   "id": "b725cb6a-a480-4201-bf0f-f29803400857",
   "metadata": {},
   "outputs": [],
   "source": [
    "def animal_crackers(text):\n",
    "    wordlist = text.upper().split()\n",
    "    print(wordlist)\n",
    "\n",
    "    \n",
    "    return wordlist[0][0] == wordlist[1][0]"
   ]
  },
  {
   "cell_type": "code",
   "execution_count": 44,
   "id": "54ac3d2d-69da-467b-93d1-b9155c810caa",
   "metadata": {},
   "outputs": [
    {
     "name": "stdout",
     "output_type": "stream",
     "text": [
      "['CRAZY', 'KANGAROO']\n"
     ]
    },
    {
     "data": {
      "text/plain": [
       "False"
      ]
     },
     "execution_count": 44,
     "metadata": {},
     "output_type": "execute_result"
    }
   ],
   "source": [
    "animal_crackers('Crazy Kangaroo')\n"
   ]
  },
  {
   "cell_type": "code",
   "execution_count": 46,
   "id": "bf80ef91-c3b4-48d9-afe5-32c31355ac1a",
   "metadata": {},
   "outputs": [
    {
     "name": "stdout",
     "output_type": "stream",
     "text": [
      "['CRAZY', 'CANGAROO']\n"
     ]
    },
    {
     "data": {
      "text/plain": [
       "True"
      ]
     },
     "execution_count": 46,
     "metadata": {},
     "output_type": "execute_result"
    }
   ],
   "source": [
    "animal_crackers('Crazy Cangaroo')"
   ]
  },
  {
   "cell_type": "code",
   "execution_count": 48,
   "id": "1af16832-9fca-40ba-a3a5-c597b9c1dd65",
   "metadata": {},
   "outputs": [],
   "source": [
    "def makes_twenty(n1,n2):\n",
    "    return (n1+n2) == 20 or n1==20 or n2==20"
   ]
  },
  {
   "cell_type": "code",
   "execution_count": 54,
   "id": "82d17e84-4469-4624-86e0-d3786472321a",
   "metadata": {},
   "outputs": [
    {
     "data": {
      "text/plain": [
       "True"
      ]
     },
     "execution_count": 54,
     "metadata": {},
     "output_type": "execute_result"
    }
   ],
   "source": [
    "makes_twenty(20,1)"
   ]
  },
  {
   "cell_type": "code",
   "execution_count": null,
   "id": "d2c82ff4-e158-4355-9a11-f2610e4d5d33",
   "metadata": {},
   "outputs": [],
   "source": []
  }
 ],
 "metadata": {
  "kernelspec": {
   "display_name": "Python 3 (ipykernel)",
   "language": "python",
   "name": "python3"
  },
  "language_info": {
   "codemirror_mode": {
    "name": "ipython",
    "version": 3
   },
   "file_extension": ".py",
   "mimetype": "text/x-python",
   "name": "python",
   "nbconvert_exporter": "python",
   "pygments_lexer": "ipython3",
   "version": "3.12.4"
  }
 },
 "nbformat": 4,
 "nbformat_minor": 5
}
