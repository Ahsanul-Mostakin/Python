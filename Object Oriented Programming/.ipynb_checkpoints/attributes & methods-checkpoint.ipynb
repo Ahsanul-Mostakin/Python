{
 "cells": [
  {
   "cell_type": "code",
   "execution_count": 78,
   "id": "c8b722b3-c6e7-464d-a303-40ec3f26db94",
   "metadata": {},
   "outputs": [],
   "source": [
    "class Dog():\n",
    "    species = 'Mammal'\n",
    "\n",
    "    def __init__(self,breed,name):\n",
    "        self.breed = breed\n",
    "        self.name = name\n",
    "\n",
    "   #Operations/Actions ----> Methods\n",
    "    def bark(self,number):\n",
    "        print(\"WOOF! My name is {} and the number is  {}\".format(self.name,number))"
   ]
  },
  {
   "cell_type": "code",
   "execution_count": 80,
   "id": "1677c78d-c7b8-4742-89d5-2052f59f32a8",
   "metadata": {},
   "outputs": [],
   "source": [
    "my_dog = Dog('Lab','Sam')"
   ]
  },
  {
   "cell_type": "code",
   "execution_count": 82,
   "id": "1214c87f-af52-4847-aa91-0e6b953f5ac1",
   "metadata": {},
   "outputs": [
    {
     "data": {
      "text/plain": [
       "__main__.Dog"
      ]
     },
     "execution_count": 82,
     "metadata": {},
     "output_type": "execute_result"
    }
   ],
   "source": [
    "type(my_dog)"
   ]
  },
  {
   "cell_type": "code",
   "execution_count": 84,
   "id": "66a584e1-6a21-42c7-89d4-b0383bf2d5ff",
   "metadata": {},
   "outputs": [
    {
     "data": {
      "text/plain": [
       "'Mammal'"
      ]
     },
     "execution_count": 84,
     "metadata": {},
     "output_type": "execute_result"
    }
   ],
   "source": [
    "my_dog.species"
   ]
  },
  {
   "cell_type": "code",
   "execution_count": 86,
   "id": "db6466e8-6e96-4b04-a486-273152867a4c",
   "metadata": {},
   "outputs": [
    {
     "data": {
      "text/plain": [
       "'Sam'"
      ]
     },
     "execution_count": 86,
     "metadata": {},
     "output_type": "execute_result"
    }
   ],
   "source": [
    "my_dog.name"
   ]
  },
  {
   "cell_type": "code",
   "execution_count": 91,
   "id": "b6b3dc3f-735d-4f47-98ab-a81f92b582fa",
   "metadata": {},
   "outputs": [
    {
     "name": "stdout",
     "output_type": "stream",
     "text": [
      "WOOF! My name is Sam and the number is10\n"
     ]
    }
   ],
   "source": [
    "my_dog.bark(10)"
   ]
  },
  {
   "cell_type": "code",
   "execution_count": null,
   "id": "c111b199-ae6f-4164-8fb5-b23b88294f0c",
   "metadata": {},
   "outputs": [],
   "source": []
  },
  {
   "cell_type": "code",
   "execution_count": 93,
   "id": "0d25fc53-495a-4bb0-aeec-93ba3cae7a1b",
   "metadata": {},
   "outputs": [],
   "source": [
    "class Circle():\n",
    "\n",
    "    #CLASS OBJECT ATTRIBUTES\n",
    "    pi =3.14\n",
    "\n",
    "    def __init__(self, radius =1):\n",
    "        self.radius= radius\n",
    "\n",
    "    #METHODS\n",
    "    def get_circumference(self):\n",
    "        return self.radius * self.pi *2\n",
    "    \n",
    "    "
   ]
  },
  {
   "cell_type": "code",
   "execution_count": 95,
   "id": "888bee39-d126-4084-bc6d-40a71f37f671",
   "metadata": {},
   "outputs": [],
   "source": [
    "my_circle = Circle()"
   ]
  },
  {
   "cell_type": "code",
   "execution_count": 97,
   "id": "c9891293-d624-4898-a6cb-712a1ad7a2e2",
   "metadata": {},
   "outputs": [
    {
     "data": {
      "text/plain": [
       "3.14"
      ]
     },
     "execution_count": 97,
     "metadata": {},
     "output_type": "execute_result"
    }
   ],
   "source": [
    "my_circle.pi"
   ]
  },
  {
   "cell_type": "code",
   "execution_count": 99,
   "id": "59c270cd-2a1d-4ea8-b693-e5c162d4207d",
   "metadata": {},
   "outputs": [
    {
     "data": {
      "text/plain": [
       "1"
      ]
     },
     "execution_count": 99,
     "metadata": {},
     "output_type": "execute_result"
    }
   ],
   "source": [
    "my_circle.radius"
   ]
  },
  {
   "cell_type": "code",
   "execution_count": 101,
   "id": "be3444d2-8aa7-464d-8d38-0a38789a790b",
   "metadata": {},
   "outputs": [
    {
     "data": {
      "text/plain": [
       "6.28"
      ]
     },
     "execution_count": 101,
     "metadata": {},
     "output_type": "execute_result"
    }
   ],
   "source": [
    "my_circle.get_circumference()"
   ]
  },
  {
   "cell_type": "code",
   "execution_count": null,
   "id": "4a990007-3823-4780-a815-3f87cb3f4c18",
   "metadata": {},
   "outputs": [],
   "source": []
  }
 ],
 "metadata": {
  "kernelspec": {
   "display_name": "Python 3 (ipykernel)",
   "language": "python",
   "name": "python3"
  },
  "language_info": {
   "codemirror_mode": {
    "name": "ipython",
    "version": 3
   },
   "file_extension": ".py",
   "mimetype": "text/x-python",
   "name": "python",
   "nbconvert_exporter": "python",
   "pygments_lexer": "ipython3",
   "version": "3.12.4"
  }
 },
 "nbformat": 4,
 "nbformat_minor": 5
}
