{
 "cells": [
  {
   "cell_type": "code",
   "execution_count": 38,
   "id": "efc2b279-fd74-4bc7-a112-57f3859517b3",
   "metadata": {},
   "outputs": [],
   "source": [
    "class Simple():\n",
    "    def __init__(self, value):\n",
    "        self.value = value\n",
    "\n",
    "    def add_to_value(self, amount):\n",
    "        self.value += amount\n",
    "        print('We just added {} to your value.'.format(amount))"
   ]
  },
  {
   "cell_type": "code",
   "execution_count": 46,
   "id": "337bec8d-d000-4a68-baac-123ad2bcd559",
   "metadata": {},
   "outputs": [],
   "source": [
    "Myobj = Simple(300)"
   ]
  },
  {
   "cell_type": "code",
   "execution_count": 52,
   "id": "f980fa7b-d59b-4429-9114-f87858bacbc3",
   "metadata": {},
   "outputs": [
    {
     "data": {
      "text/plain": [
       "800"
      ]
     },
     "execution_count": 52,
     "metadata": {},
     "output_type": "execute_result"
    }
   ],
   "source": [
    "Myobj.value"
   ]
  },
  {
   "cell_type": "code",
   "execution_count": 54,
   "id": "2ff6546b-fe51-41ed-82bd-c22451ddd373",
   "metadata": {},
   "outputs": [
    {
     "name": "stdout",
     "output_type": "stream",
     "text": [
      "We just added 500 to your value.\n"
     ]
    }
   ],
   "source": [
    "Myobj.add_to_value(500)"
   ]
  },
  {
   "cell_type": "code",
   "execution_count": null,
   "id": "b6927de7-4931-49e3-917f-b631c6e53f64",
   "metadata": {},
   "outputs": [],
   "source": []
  },
  {
   "cell_type": "code",
   "execution_count": null,
   "id": "0a686561-d571-473e-81a6-62815f7679ac",
   "metadata": {},
   "outputs": [],
   "source": []
  }
 ],
 "metadata": {
  "kernelspec": {
   "display_name": "Python 3 (ipykernel)",
   "language": "python",
   "name": "python3"
  },
  "language_info": {
   "codemirror_mode": {
    "name": "ipython",
    "version": 3
   },
   "file_extension": ".py",
   "mimetype": "text/x-python",
   "name": "python",
   "nbconvert_exporter": "python",
   "pygments_lexer": "ipython3",
   "version": "3.12.4"
  }
 },
 "nbformat": 4,
 "nbformat_minor": 5
}
