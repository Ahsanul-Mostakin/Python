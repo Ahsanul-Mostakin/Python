{
 "cells": [
  {
   "cell_type": "code",
   "execution_count": 1,
   "id": "4e10436f-c14f-47e5-bb41-f9a2c2c49984",
   "metadata": {},
   "outputs": [],
   "source": [
    "my_list = [1,2,3]"
   ]
  },
  {
   "cell_type": "code",
   "execution_count": 2,
   "id": "ecc9c660-2c31-4f2f-917a-171160a17d5d",
   "metadata": {},
   "outputs": [
    {
     "data": {
      "text/plain": [
       "[1, 2, 3]"
      ]
     },
     "execution_count": 2,
     "metadata": {},
     "output_type": "execute_result"
    }
   ],
   "source": [
    "my_list\n"
   ]
  },
  {
   "cell_type": "code",
   "execution_count": 3,
   "id": "9063d7d1-4042-4409-a7d1-386429cac98f",
   "metadata": {},
   "outputs": [],
   "source": [
    "my_list = ['String', 100, 23.2]"
   ]
  },
  {
   "cell_type": "code",
   "execution_count": 4,
   "id": "e5d01ea7-9e66-4e35-a4cc-04ec357afee4",
   "metadata": {},
   "outputs": [
    {
     "data": {
      "text/plain": [
       "3"
      ]
     },
     "execution_count": 4,
     "metadata": {},
     "output_type": "execute_result"
    }
   ],
   "source": [
    "len(my_list)"
   ]
  },
  {
   "cell_type": "code",
   "execution_count": 5,
   "id": "ed1d8555-a5b1-4a8d-bdcb-e485d70fed4b",
   "metadata": {},
   "outputs": [],
   "source": [
    "my_list = ['One','Two','Three']"
   ]
  },
  {
   "cell_type": "code",
   "execution_count": 6,
   "id": "fd9f81de-b4d3-4b07-8c90-38dc48c58744",
   "metadata": {},
   "outputs": [
    {
     "data": {
      "text/plain": [
       "['One', 'Two', 'Three']"
      ]
     },
     "execution_count": 6,
     "metadata": {},
     "output_type": "execute_result"
    }
   ],
   "source": [
    "my_list"
   ]
  },
  {
   "cell_type": "code",
   "execution_count": 7,
   "id": "86de5e4a-2f87-4270-bb74-f69c57778c93",
   "metadata": {},
   "outputs": [
    {
     "data": {
      "text/plain": [
       "'One'"
      ]
     },
     "execution_count": 7,
     "metadata": {},
     "output_type": "execute_result"
    }
   ],
   "source": [
    "my_list[0]"
   ]
  },
  {
   "cell_type": "code",
   "execution_count": 8,
   "id": "90971937-f528-48d6-a748-2f35df34f2ed",
   "metadata": {},
   "outputs": [
    {
     "data": {
      "text/plain": [
       "['Two', 'Three']"
      ]
     },
     "execution_count": 8,
     "metadata": {},
     "output_type": "execute_result"
    }
   ],
   "source": [
    "my_list[1:]"
   ]
  },
  {
   "cell_type": "code",
   "execution_count": 9,
   "id": "c46f6cc7-d7e2-4f5d-8960-52036c3e637d",
   "metadata": {},
   "outputs": [
    {
     "data": {
      "text/plain": [
       "['One', 'Two', 'Three']"
      ]
     },
     "execution_count": 9,
     "metadata": {},
     "output_type": "execute_result"
    }
   ],
   "source": [
    "my_list"
   ]
  },
  {
   "cell_type": "code",
   "execution_count": 10,
   "id": "72531866-68fb-4a92-a7a1-0af32550cabe",
   "metadata": {},
   "outputs": [],
   "source": [
    "another_list = ['Four','Five']"
   ]
  },
  {
   "cell_type": "code",
   "execution_count": 11,
   "id": "aee1ae66-1c7d-45c3-98dc-56a73a834e29",
   "metadata": {},
   "outputs": [],
   "source": [
    "Add = my_list + another_list"
   ]
  },
  {
   "cell_type": "code",
   "execution_count": 13,
   "id": "86be6ecf-d0a0-491d-b810-b9afc2cfae3a",
   "metadata": {},
   "outputs": [
    {
     "data": {
      "text/plain": [
       "['One', 'Two', 'Three', 'Four', 'Five']"
      ]
     },
     "execution_count": 13,
     "metadata": {},
     "output_type": "execute_result"
    }
   ],
   "source": [
    "Add\n"
   ]
  },
  {
   "cell_type": "code",
   "execution_count": 14,
   "id": "f8f7ad31-db85-4289-aeae-649edd3521f4",
   "metadata": {},
   "outputs": [],
   "source": [
    "Add [0] = 'ONE ALL CAPS'"
   ]
  },
  {
   "cell_type": "code",
   "execution_count": 16,
   "id": "8acb8e56-ab78-4c44-8b13-9d3a34bc39c1",
   "metadata": {},
   "outputs": [
    {
     "data": {
      "text/plain": [
       "['ONE ALL CAPS', 'Two', 'Three', 'Four', 'Five']"
      ]
     },
     "execution_count": 16,
     "metadata": {},
     "output_type": "execute_result"
    }
   ],
   "source": [
    "Add"
   ]
  },
  {
   "cell_type": "code",
   "execution_count": 17,
   "id": "359a38e2-c72e-4028-bb1a-1495a2ae7b81",
   "metadata": {},
   "outputs": [],
   "source": [
    "Add.append('six')"
   ]
  },
  {
   "cell_type": "code",
   "execution_count": 18,
   "id": "db26b89b-801a-4315-bcda-6a7b3439695e",
   "metadata": {},
   "outputs": [
    {
     "data": {
      "text/plain": [
       "['ONE ALL CAPS', 'Two', 'Three', 'Four', 'Five', 'six']"
      ]
     },
     "execution_count": 18,
     "metadata": {},
     "output_type": "execute_result"
    }
   ],
   "source": [
    "Add"
   ]
  },
  {
   "cell_type": "code",
   "execution_count": 19,
   "id": "bb37c87d-4992-423f-947e-694be69ffa9e",
   "metadata": {},
   "outputs": [],
   "source": [
    "Add.append('seven')"
   ]
  },
  {
   "cell_type": "code",
   "execution_count": 20,
   "id": "7b9081b3-5849-442b-a6b5-9ba2cc9c9280",
   "metadata": {},
   "outputs": [
    {
     "data": {
      "text/plain": [
       "['ONE ALL CAPS', 'Two', 'Three', 'Four', 'Five', 'six', 'seven']"
      ]
     },
     "execution_count": 20,
     "metadata": {},
     "output_type": "execute_result"
    }
   ],
   "source": [
    "Add"
   ]
  },
  {
   "cell_type": "code",
   "execution_count": 21,
   "id": "479005cb-2520-47ae-b9dd-08209f9b3d39",
   "metadata": {},
   "outputs": [
    {
     "data": {
      "text/plain": [
       "'seven'"
      ]
     },
     "execution_count": 21,
     "metadata": {},
     "output_type": "execute_result"
    }
   ],
   "source": [
    "Add.pop()"
   ]
  },
  {
   "cell_type": "code",
   "execution_count": 22,
   "id": "973a5a24-75c0-4619-9f22-40ff04cbbdf8",
   "metadata": {},
   "outputs": [
    {
     "data": {
      "text/plain": [
       "['ONE ALL CAPS', 'Two', 'Three', 'Four', 'Five', 'six']"
      ]
     },
     "execution_count": 22,
     "metadata": {},
     "output_type": "execute_result"
    }
   ],
   "source": [
    "Add"
   ]
  },
  {
   "cell_type": "code",
   "execution_count": 23,
   "id": "3b494655-aa21-46b0-b351-757c98a000dc",
   "metadata": {},
   "outputs": [],
   "source": [
    "popped_item = Add.pop()"
   ]
  },
  {
   "cell_type": "code",
   "execution_count": 24,
   "id": "be50d24e-7440-467d-bced-50ac43879189",
   "metadata": {},
   "outputs": [
    {
     "data": {
      "text/plain": [
       "'six'"
      ]
     },
     "execution_count": 24,
     "metadata": {},
     "output_type": "execute_result"
    }
   ],
   "source": [
    "popped_item"
   ]
  },
  {
   "cell_type": "code",
   "execution_count": 25,
   "id": "4f25afb5-3d3c-4457-90ac-e9ed9e688654",
   "metadata": {},
   "outputs": [
    {
     "data": {
      "text/plain": [
       "['ONE ALL CAPS', 'Two', 'Three', 'Four', 'Five']"
      ]
     },
     "execution_count": 25,
     "metadata": {},
     "output_type": "execute_result"
    }
   ],
   "source": [
    "Add"
   ]
  },
  {
   "cell_type": "code",
   "execution_count": 26,
   "id": "ed876273-779f-4b63-8601-0e76cfefa021",
   "metadata": {},
   "outputs": [
    {
     "data": {
      "text/plain": [
       "'ONE ALL CAPS'"
      ]
     },
     "execution_count": 26,
     "metadata": {},
     "output_type": "execute_result"
    }
   ],
   "source": [
    "Add.pop(0)"
   ]
  },
  {
   "cell_type": "code",
   "execution_count": 27,
   "id": "775eb457-9f1f-48af-811e-a9084f47a8bb",
   "metadata": {},
   "outputs": [
    {
     "data": {
      "text/plain": [
       "['Two', 'Three', 'Four', 'Five']"
      ]
     },
     "execution_count": 27,
     "metadata": {},
     "output_type": "execute_result"
    }
   ],
   "source": [
    "Add"
   ]
  },
  {
   "cell_type": "code",
   "execution_count": 28,
   "id": "ca6686c1-66ff-4ea3-a4dd-c173d73c88c3",
   "metadata": {},
   "outputs": [],
   "source": [
    "new_list =['a','e','x','b','c']\n",
    "num_list =[4,1,8,3]"
   ]
  },
  {
   "cell_type": "code",
   "execution_count": 29,
   "id": "c5fd05a8-f870-4253-a160-f7fff42171af",
   "metadata": {},
   "outputs": [],
   "source": [
    "new_list.sort()"
   ]
  },
  {
   "cell_type": "code",
   "execution_count": 30,
   "id": "10e307ca-3bcf-4d47-948c-ab6f0c5d33a1",
   "metadata": {},
   "outputs": [
    {
     "data": {
      "text/plain": [
       "['a', 'b', 'c', 'e', 'x']"
      ]
     },
     "execution_count": 30,
     "metadata": {},
     "output_type": "execute_result"
    }
   ],
   "source": [
    "new_list"
   ]
  },
  {
   "cell_type": "code",
   "execution_count": 31,
   "id": "f759258e-ec19-4c6b-9d38-fbdf76fa3b1e",
   "metadata": {},
   "outputs": [],
   "source": [
    "num_list.sort()\n",
    "my_sorted_list = num_list"
   ]
  },
  {
   "cell_type": "code",
   "execution_count": 32,
   "id": "58fe7c67-9604-466b-a198-9644b2d77abe",
   "metadata": {},
   "outputs": [
    {
     "data": {
      "text/plain": [
       "[1, 3, 4, 8]"
      ]
     },
     "execution_count": 32,
     "metadata": {},
     "output_type": "execute_result"
    }
   ],
   "source": [
    "my_sorted_list"
   ]
  },
  {
   "cell_type": "code",
   "execution_count": 46,
   "id": "a289de8c-1886-4367-8f48-6f23b1fd0e93",
   "metadata": {},
   "outputs": [],
   "source": [
    "num_list.reverse()"
   ]
  },
  {
   "cell_type": "code",
   "execution_count": 47,
   "id": "5fc1bfff-2352-470e-92e8-6fdca1ac81cd",
   "metadata": {},
   "outputs": [
    {
     "data": {
      "text/plain": [
       "[8, 4, 3, 1]"
      ]
     },
     "execution_count": 47,
     "metadata": {},
     "output_type": "execute_result"
    }
   ],
   "source": [
    "num_list"
   ]
  },
  {
   "cell_type": "code",
   "execution_count": 48,
   "id": "1972803c-248f-40ad-a315-d2992c7ea910",
   "metadata": {},
   "outputs": [
    {
     "data": {
      "text/plain": [
       "['x', 'e', 'c', 'b', 'a']"
      ]
     },
     "execution_count": 48,
     "metadata": {},
     "output_type": "execute_result"
    }
   ],
   "source": [
    "new_list"
   ]
  },
  {
   "cell_type": "code",
   "execution_count": null,
   "id": "fff69596-c533-415b-adcf-1a4dc4f86c5a",
   "metadata": {},
   "outputs": [],
   "source": []
  }
 ],
 "metadata": {
  "kernelspec": {
   "display_name": "Python 3 (ipykernel)",
   "language": "python",
   "name": "python3"
  },
  "language_info": {
   "codemirror_mode": {
    "name": "ipython",
    "version": 3
   },
   "file_extension": ".py",
   "mimetype": "text/x-python",
   "name": "python",
   "nbconvert_exporter": "python",
   "pygments_lexer": "ipython3",
   "version": "3.11.7"
  }
 },
 "nbformat": 4,
 "nbformat_minor": 5
}
