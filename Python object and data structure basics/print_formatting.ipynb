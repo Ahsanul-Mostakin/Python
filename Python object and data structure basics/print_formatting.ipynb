{
 "cells": [
  {
   "cell_type": "code",
   "execution_count": 3,
   "id": "8bfe2e73-f21f-402f-9978-eb4a1f627ce3",
   "metadata": {},
   "outputs": [
    {
     "name": "stdout",
     "output_type": "stream",
     "text": [
      "This is string INSERTED\n"
     ]
    }
   ],
   "source": [
    "print('This is string{}'.format(' INSERTED'))"
   ]
  },
  {
   "cell_type": "code",
   "execution_count": 4,
   "id": "651d70b6-3f9b-469e-9042-6002c0b4a9b0",
   "metadata": {},
   "outputs": [
    {
     "name": "stdout",
     "output_type": "stream",
     "text": [
      " The fox brown quick \n"
     ]
    }
   ],
   "source": [
    "print(' The {} {} {} ' .format('fox','brown','quick'))"
   ]
  },
  {
   "cell_type": "code",
   "execution_count": 6,
   "id": "955feb56-5420-49e0-aff6-0c17ef8a287d",
   "metadata": {},
   "outputs": [
    {
     "name": "stdout",
     "output_type": "stream",
     "text": [
      " The quick brown fox \n"
     ]
    }
   ],
   "source": [
    "print(' The {2} {1} {0} ' .format('fox','brown','quick'))"
   ]
  },
  {
   "cell_type": "code",
   "execution_count": 8,
   "id": "95dfed2b-a410-4777-bd62-cb7d16d5d55f",
   "metadata": {},
   "outputs": [],
   "source": [
    "#Float formating\n",
    "\n",
    "result = 100/777"
   ]
  },
  {
   "cell_type": "code",
   "execution_count": 9,
   "id": "89ae7fda-9819-4f4d-98f5-b2579d5c2b0a",
   "metadata": {},
   "outputs": [
    {
     "data": {
      "text/plain": [
       "0.1287001287001287"
      ]
     },
     "execution_count": 9,
     "metadata": {},
     "output_type": "execute_result"
    }
   ],
   "source": [
    "result"
   ]
  },
  {
   "cell_type": "code",
   "execution_count": 10,
   "id": "c0e37949-2bf7-45c6-bd61-57fe091a6760",
   "metadata": {},
   "outputs": [
    {
     "name": "stdout",
     "output_type": "stream",
     "text": [
      "The result was 0.1287001287001287\n"
     ]
    }
   ],
   "source": [
    "print('The result was {}'.format(result))"
   ]
  },
  {
   "cell_type": "code",
   "execution_count": 12,
   "id": "4b2f2bdd-b94d-4741-adc3-8eb6b27882e7",
   "metadata": {},
   "outputs": [
    {
     "name": "stdout",
     "output_type": "stream",
     "text": [
      "The result was 0.1287001287001287\n"
     ]
    }
   ],
   "source": [
    "print('The result was {r}'.format(r = result))"
   ]
  },
  {
   "cell_type": "code",
   "execution_count": 16,
   "id": "80b77995-09e3-45ac-9066-aeb7525a1918",
   "metadata": {},
   "outputs": [
    {
     "name": "stdout",
     "output_type": "stream",
     "text": [
      "The result was 0.12870\n"
     ]
    }
   ],
   "source": [
    "print('The result was {r:1.5f}'.format(r=result))"
   ]
  },
  {
   "cell_type": "code",
   "execution_count": 23,
   "id": "2de3f5cc-f8eb-4f38-979b-e661c4931dcc",
   "metadata": {},
   "outputs": [
    {
     "name": "stdout",
     "output_type": "stream",
     "text": [
      "Hello his name is Mostakin\n"
     ]
    }
   ],
   "source": [
    "name = ' Mostakin'\n",
    "age = 25\n",
    "\n",
    "print('Hello his name is{}'.format(name))"
   ]
  },
  {
   "cell_type": "code",
   "execution_count": 37,
   "id": "85ba68c9-065e-4285-ad64-f95ef39baf9d",
   "metadata": {},
   "outputs": [
    {
     "name": "stdout",
     "output_type": "stream",
     "text": [
      "Hello his name Angel & age 22\n"
     ]
    }
   ],
   "source": [
    "print(f\"Hello his name{name} & age {age}\")"
   ]
  },
  {
   "cell_type": "code",
   "execution_count": 36,
   "id": "88538743-4796-44c1-9359-c8755d099ade",
   "metadata": {},
   "outputs": [
    {
     "name": "stdout",
     "output_type": "stream",
     "text": [
      "Her name is Angel age is 22\n"
     ]
    }
   ],
   "source": [
    "name = \" Angel\"\n",
    "age = 22\n",
    "\n",
    "print(f\"Her name is{name} age is {age}\")"
   ]
  },
  {
   "cell_type": "code",
   "execution_count": 38,
   "id": "eebb25ba-5ace-45d2-b4d3-573149c14bdc",
   "metadata": {},
   "outputs": [
    {
     "name": "stdout",
     "output_type": "stream",
     "text": [
      "Vitamin is 22 years old\n"
     ]
    }
   ],
   "source": [
    "name = \"Vitamin\"\n",
    "age = 22\n",
    "\n",
    "print(f\"{name} is {age} years old\")"
   ]
  },
  {
   "cell_type": "code",
   "execution_count": null,
   "id": "20fd6b75-70e9-4f98-9f46-6d9f1edef726",
   "metadata": {},
   "outputs": [],
   "source": []
  }
 ],
 "metadata": {
  "kernelspec": {
   "display_name": "Python 3 (ipykernel)",
   "language": "python",
   "name": "python3"
  },
  "language_info": {
   "codemirror_mode": {
    "name": "ipython",
    "version": 3
   },
   "file_extension": ".py",
   "mimetype": "text/x-python",
   "name": "python",
   "nbconvert_exporter": "python",
   "pygments_lexer": "ipython3",
   "version": "3.11.7"
  }
 },
 "nbformat": 4,
 "nbformat_minor": 5
}
