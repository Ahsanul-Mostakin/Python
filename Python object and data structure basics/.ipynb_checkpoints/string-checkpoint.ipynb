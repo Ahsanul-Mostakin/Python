{
 "cells": [
  {
   "cell_type": "code",
   "execution_count": 1,
   "id": "ba4b8a99-83c0-4345-814b-7eb1aac8b7dd",
   "metadata": {},
   "outputs": [
    {
     "data": {
      "text/plain": [
       "\"I'm Ahsanul Mostakin\""
      ]
     },
     "execution_count": 1,
     "metadata": {},
     "output_type": "execute_result"
    }
   ],
   "source": [
    "\"I'm Ahsanul Mostakin\""
   ]
  },
  {
   "cell_type": "code",
   "execution_count": 3,
   "id": "f50e226f-8d8c-49bb-ab63-363dfb3d6389",
   "metadata": {},
   "outputs": [
    {
     "name": "stdout",
     "output_type": "stream",
     "text": [
      "Hello world\n"
     ]
    }
   ],
   "source": [
    "print ('Hello world')"
   ]
  },
  {
   "cell_type": "code",
   "execution_count": 4,
   "id": "c8dac34e-0b34-474a-969d-6af61099443c",
   "metadata": {},
   "outputs": [
    {
     "name": "stdout",
     "output_type": "stream",
     "text": [
      "Hello world\n"
     ]
    }
   ],
   "source": [
    "print (\"Hello world\")"
   ]
  },
  {
   "cell_type": "code",
   "execution_count": 7,
   "id": "0686ce3f-cc62-4ead-b9ac-1049865ab3f1",
   "metadata": {},
   "outputs": [
    {
     "name": "stdout",
     "output_type": "stream",
     "text": [
      "Hello \n",
      "world\n"
     ]
    }
   ],
   "source": [
    "print ('Hello \\nworld')"
   ]
  },
  {
   "cell_type": "code",
   "execution_count": 8,
   "id": "38cf99f9-0c55-49d5-b2d3-7e6e728ee605",
   "metadata": {},
   "outputs": [
    {
     "name": "stdout",
     "output_type": "stream",
     "text": [
      "Hello \tworld\n"
     ]
    }
   ],
   "source": [
    "print ('Hello \\tworld')"
   ]
  },
  {
   "cell_type": "code",
   "execution_count": 9,
   "id": "8db91105-937e-4cd9-b542-274c215d12ec",
   "metadata": {},
   "outputs": [
    {
     "name": "stdout",
     "output_type": "stream",
     "text": [
      "Hello \t world\n"
     ]
    }
   ],
   "source": [
    "print ('Hello \\t world')"
   ]
  },
  {
   "cell_type": "code",
   "execution_count": 10,
   "id": "1a0262e2-0d41-4fe1-9451-b3ebe523ec06",
   "metadata": {},
   "outputs": [
    {
     "name": "stdout",
     "output_type": "stream",
     "text": [
      "Hello \t             world\n"
     ]
    }
   ],
   "source": [
    "print ('Hello \\t             world')"
   ]
  },
  {
   "cell_type": "code",
   "execution_count": null,
   "id": "d78ed79e-944b-46e6-8ea0-012062e51586",
   "metadata": {},
   "outputs": [],
   "source": []
  }
 ],
 "metadata": {
  "kernelspec": {
   "display_name": "Python 3 (ipykernel)",
   "language": "python",
   "name": "python3"
  },
  "language_info": {
   "codemirror_mode": {
    "name": "ipython",
    "version": 3
   },
   "file_extension": ".py",
   "mimetype": "text/x-python",
   "name": "python",
   "nbconvert_exporter": "python",
   "pygments_lexer": "ipython3",
   "version": "3.11.7"
  }
 },
 "nbformat": 4,
 "nbformat_minor": 5
}
