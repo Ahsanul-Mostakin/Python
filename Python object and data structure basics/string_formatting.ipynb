{
 "cells": [
  {
   "cell_type": "code",
   "execution_count": 3,
   "id": "41d96073-a0cf-4e3f-b4fa-a75ea61a9ae5",
   "metadata": {},
   "outputs": [
    {
     "name": "stdout",
     "output_type": "stream",
     "text": [
      "This is a string Isterted\n"
     ]
    }
   ],
   "source": [
    "print('This is a string {}' .format('Isterted'))"
   ]
  },
  {
   "cell_type": "code",
   "execution_count": 4,
   "id": "2c762eda-bb3e-43cc-85f9-d9e712cdbe71",
   "metadata": {},
   "outputs": [
    {
     "name": "stdout",
     "output_type": "stream",
     "text": [
      "This is a 420 mostakin\n"
     ]
    }
   ],
   "source": [
    "print('This is a {} mostakin' .format('420'))"
   ]
  },
  {
   "cell_type": "code",
   "execution_count": 8,
   "id": "685ebf92-5392-4705-81a4-d597a5306b4f",
   "metadata": {},
   "outputs": [
    {
     "name": "stdout",
     "output_type": "stream",
     "text": [
      "The quick brown fox\n"
     ]
    }
   ],
   "source": [
    "print('The {2} {1} {0}'.format('fox','brown','quick'))"
   ]
  },
  {
   "cell_type": "code",
   "execution_count": 14,
   "id": "b84a219d-0541-4451-a5f5-4db62cf4f379",
   "metadata": {},
   "outputs": [
    {
     "name": "stdout",
     "output_type": "stream",
     "text": [
      "The quick brown fox\n"
     ]
    }
   ],
   "source": [
    "print(\"The {c} {b} {f}\".format (f='fox',b=\"brown\",c='quick'))"
   ]
  },
  {
   "cell_type": "code",
   "execution_count": 15,
   "id": "0f6f45ad-8765-4035-b3ae-3858cd94a15f",
   "metadata": {},
   "outputs": [],
   "source": [
    "result = 100/77"
   ]
  },
  {
   "cell_type": "code",
   "execution_count": 16,
   "id": "fcdf797c-58de-4667-a1c9-3ff3a42410ec",
   "metadata": {},
   "outputs": [
    {
     "data": {
      "text/plain": [
       "1.2987012987012987"
      ]
     },
     "execution_count": 16,
     "metadata": {},
     "output_type": "execute_result"
    }
   ],
   "source": [
    "result"
   ]
  },
  {
   "cell_type": "code",
   "execution_count": 21,
   "id": "3def958c-ebb0-4415-a3f1-68b824af2273",
   "metadata": {},
   "outputs": [
    {
     "name": "stdout",
     "output_type": "stream",
     "text": [
      "The result was 1.2987012987012987 \n"
     ]
    }
   ],
   "source": [
    "print(\"The result was {n} \".format(n=result))"
   ]
  },
  {
   "cell_type": "code",
   "execution_count": 25,
   "id": "953897df-5002-4867-b2b1-5c4ce999ce7c",
   "metadata": {},
   "outputs": [
    {
     "name": "stdout",
     "output_type": "stream",
     "text": [
      "The result was 1.299 \n"
     ]
    }
   ],
   "source": [
    "print(\"The result was {n:1.3f} \".format(n=result))"
   ]
  },
  {
   "cell_type": "code",
   "execution_count": 26,
   "id": "69f8de52-2949-48bf-8d57-29d4634ca245",
   "metadata": {},
   "outputs": [],
   "source": [
    "name = 'Angel'\n"
   ]
  },
  {
   "cell_type": "code",
   "execution_count": 28,
   "id": "9167bcfa-81d9-4575-8c01-10e6cbf6b76e",
   "metadata": {},
   "outputs": [
    {
     "name": "stdout",
     "output_type": "stream",
     "text": [
      "Hello, her name is Angel\n"
     ]
    }
   ],
   "source": [
    "print(f'Hello, her name is {name}')"
   ]
  },
  {
   "cell_type": "code",
   "execution_count": 29,
   "id": "85176890-0213-4285-9da3-e78542696d36",
   "metadata": {},
   "outputs": [],
   "source": [
    "name= \"angel\"\n",
    "age =24"
   ]
  },
  {
   "cell_type": "code",
   "execution_count": 31,
   "id": "815c5def-fb47-4f05-bde4-16dc93a15486",
   "metadata": {},
   "outputs": [
    {
     "name": "stdout",
     "output_type": "stream",
     "text": [
      "Her name angel is 24 years old.\n"
     ]
    }
   ],
   "source": [
    "print(f\"Her name {name} is {age} years old.\")"
   ]
  },
  {
   "cell_type": "code",
   "execution_count": null,
   "id": "92cb7c07-f2d5-4896-9552-a23becb1d304",
   "metadata": {},
   "outputs": [],
   "source": []
  }
 ],
 "metadata": {
  "kernelspec": {
   "display_name": "Python 3 (ipykernel)",
   "language": "python",
   "name": "python3"
  },
  "language_info": {
   "codemirror_mode": {
    "name": "ipython",
    "version": 3
   },
   "file_extension": ".py",
   "mimetype": "text/x-python",
   "name": "python",
   "nbconvert_exporter": "python",
   "pygments_lexer": "ipython3",
   "version": "3.11.7"
  }
 },
 "nbformat": 4,
 "nbformat_minor": 5
}
