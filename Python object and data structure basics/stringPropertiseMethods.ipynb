{
 "cells": [
  {
   "cell_type": "code",
   "execution_count": 15,
   "id": "066b34be-d27a-40ab-8531-6ca059ea94c1",
   "metadata": {},
   "outputs": [],
   "source": [
    "name ='Sam'"
   ]
  },
  {
   "cell_type": "code",
   "execution_count": 23,
   "id": "6b7c8135-e0d5-432c-9ab0-2660a7a139da",
   "metadata": {},
   "outputs": [],
   "source": [
    "last_letter = name[1:]"
   ]
  },
  {
   "cell_type": "code",
   "execution_count": 24,
   "id": "73f6a874-db8d-49f4-b66c-78f0ef3b2d78",
   "metadata": {},
   "outputs": [
    {
     "data": {
      "text/plain": [
       "'am'"
      ]
     },
     "execution_count": 24,
     "metadata": {},
     "output_type": "execute_result"
    }
   ],
   "source": [
    "last_letter"
   ]
  },
  {
   "cell_type": "code",
   "execution_count": 26,
   "id": "140a7e57-6ab9-4084-aed9-127e35ae46ff",
   "metadata": {},
   "outputs": [],
   "source": [
    "x = 'p' + last_letter"
   ]
  },
  {
   "cell_type": "code",
   "execution_count": 27,
   "id": "1b3973e7-16ae-47f1-8211-d988bd3142e2",
   "metadata": {},
   "outputs": [
    {
     "data": {
      "text/plain": [
       "'pam'"
      ]
     },
     "execution_count": 27,
     "metadata": {},
     "output_type": "execute_result"
    }
   ],
   "source": [
    "x"
   ]
  },
  {
   "cell_type": "code",
   "execution_count": 34,
   "id": "b95d6569-21d5-4907-9322-50b121771f07",
   "metadata": {},
   "outputs": [],
   "source": [
    "x = \"Hello World\""
   ]
  },
  {
   "cell_type": "code",
   "execution_count": 35,
   "id": "3db1da6e-a2fd-451c-bf61-6c33d504c188",
   "metadata": {},
   "outputs": [],
   "source": [
    "x = x + \" it is beautiful outside\""
   ]
  },
  {
   "cell_type": "code",
   "execution_count": 36,
   "id": "11700cbf-b667-49fc-ae68-a296863317f4",
   "metadata": {},
   "outputs": [
    {
     "data": {
      "text/plain": [
       "'Hello World it is beautiful outside'"
      ]
     },
     "execution_count": 36,
     "metadata": {},
     "output_type": "execute_result"
    }
   ],
   "source": [
    "x"
   ]
  },
  {
   "cell_type": "code",
   "execution_count": 42,
   "id": "34cbcc79-bde3-42a8-97cc-ca4d74e34a57",
   "metadata": {},
   "outputs": [],
   "source": [
    "letter = \"Mostakin\""
   ]
  },
  {
   "cell_type": "code",
   "execution_count": 43,
   "id": "14b3bdc1-08f7-47b9-8c44-b131a9fbd970",
   "metadata": {},
   "outputs": [
    {
     "data": {
      "text/plain": [
       "'MostakinMostakinMostakinMostakinMostakinMostakinMostakinMostakinMostakinMostakin'"
      ]
     },
     "execution_count": 43,
     "metadata": {},
     "output_type": "execute_result"
    }
   ],
   "source": [
    "letter * 10"
   ]
  },
  {
   "cell_type": "code",
   "execution_count": 44,
   "id": "e01665fb-5c0a-40f4-aeb7-87dc20d792ce",
   "metadata": {},
   "outputs": [],
   "source": [
    "x = \"Hello World\""
   ]
  },
  {
   "cell_type": "code",
   "execution_count": 45,
   "id": "030467bf-4807-4c42-bfbf-9209d76f9cb6",
   "metadata": {},
   "outputs": [
    {
     "data": {
      "text/plain": [
       "'HELLO WORLD'"
      ]
     },
     "execution_count": 45,
     "metadata": {},
     "output_type": "execute_result"
    }
   ],
   "source": [
    "x.upper()"
   ]
  },
  {
   "cell_type": "code",
   "execution_count": 46,
   "id": "ebed5cae-b29e-4de9-bf23-1c08ef62e611",
   "metadata": {},
   "outputs": [
    {
     "data": {
      "text/plain": [
       "'hello world'"
      ]
     },
     "execution_count": 46,
     "metadata": {},
     "output_type": "execute_result"
    }
   ],
   "source": [
    "x.lower()"
   ]
  },
  {
   "cell_type": "code",
   "execution_count": 48,
   "id": "fa7d1c26-6602-4873-b6b2-b4bc432b4675",
   "metadata": {},
   "outputs": [],
   "source": [
    "x =  'This is a string'"
   ]
  },
  {
   "cell_type": "code",
   "execution_count": 52,
   "id": "e8b99994-a82c-448d-8c29-248f1d711e3d",
   "metadata": {},
   "outputs": [
    {
     "data": {
      "text/plain": [
       "['Th', 's ', 's a str', 'ng']"
      ]
     },
     "execution_count": 52,
     "metadata": {},
     "output_type": "execute_result"
    }
   ],
   "source": [
    "x.split('i')"
   ]
  },
  {
   "cell_type": "code",
   "execution_count": 54,
   "id": "fd5963ef-4c15-45f7-a8c1-84a49168ee28",
   "metadata": {},
   "outputs": [
    {
     "data": {
      "text/plain": [
       "['This', 'is', 'a', 'string']"
      ]
     },
     "execution_count": 54,
     "metadata": {},
     "output_type": "execute_result"
    }
   ],
   "source": [
    "x.split()"
   ]
  },
  {
   "cell_type": "code",
   "execution_count": null,
   "id": "5a89bfa1-6155-42c2-b6dd-b59d115695bb",
   "metadata": {},
   "outputs": [],
   "source": []
  }
 ],
 "metadata": {
  "kernelspec": {
   "display_name": "Python 3 (ipykernel)",
   "language": "python",
   "name": "python3"
  },
  "language_info": {
   "codemirror_mode": {
    "name": "ipython",
    "version": 3
   },
   "file_extension": ".py",
   "mimetype": "text/x-python",
   "name": "python",
   "nbconvert_exporter": "python",
   "pygments_lexer": "ipython3",
   "version": "3.11.7"
  }
 },
 "nbformat": 4,
 "nbformat_minor": 5
}
